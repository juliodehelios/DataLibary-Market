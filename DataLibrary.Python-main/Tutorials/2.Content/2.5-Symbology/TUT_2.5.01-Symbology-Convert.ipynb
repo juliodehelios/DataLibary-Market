{
 "cells": [
  {
   "cell_type": "markdown",
   "id": "e17590df-acb2-4a2b-85a8-4e5854b71133",
   "metadata": {},
   "source": [
    "----\n",
    "<img src=\"../../../files/refinitiv.png\" width=\"20%\" style=\"vertical-align: top;\">\n",
    "\n",
    "# Data Library for Python\n",
    "\n",
    "----"
   ]
  },
  {
   "cell_type": "markdown",
   "id": "84834efe",
   "metadata": {},
   "source": [
    "## Content - Symbol Conversion\n",
    "This notebook demonstrates how to convert between different Symbology types using the Refinitiv Data Platform OR via Refinitiv Eikon/Workspace.  \n",
    "\n",
    "#### Currently supported Symbol Types - rd.SymbolTypes enum\n",
    "- rd.content.symbol_conversion.RIC => RIC\n",
    "- rd.content.symbol_conversion.ISIN => IssueISIN\n",
    "- rd.content.symbol_conversion.CUSIP => CUSIP\n",
    "- rd.content.symbol_conversion.SEDOL => SEDOL\n",
    "- rd.content.symbol_conversion.TICKER_SYMBOL => TickerSymbol\n",
    "- rd.content.symbol_conversion.OA_PERM_ID => IssuerOAPermID\n",
    "- rd.content.symbol_conversion.LIPPER_ID => FundClassLipperID"
   ]
  },
  {
   "cell_type": "markdown",
   "id": "339b577f-26e5-4890-8ba9-075064b4f5ee",
   "metadata": {},
   "source": [
    "## Set the location of the configuration file\n",
    "For ease of use, you can set various initialization parameters of the RD Library in the **_refinitiv-data.config.json_** configuration file - as described in the Quick Start -> Sessions example.\n",
    "\n",
    "### One config file for the tutorials\n",
    "As these tutorial Notebooks are categorised into sub-folders and to avoid the need for multiple config files, we will use the _RD_LIB_CONFIG_PATH_ environment variable to point to a single instance of the config file in the top-level ***Configuration*** folder.\n",
    "\n",
    "Before proceeding, please **ensure you have entered your credentials** into the config file in the ***Configuration*** folder."
   ]
  },
  {
   "cell_type": "code",
   "execution_count": 1,
   "id": "2d65af88-2c11-4bc3-b86a-9694fdf00b44",
   "metadata": {},
   "outputs": [],
   "source": [
    "import os\n",
    "os.environ[\"RD_LIB_CONFIG_PATH\"] = \"../../../Configuration\""
   ]
  },
  {
   "cell_type": "code",
   "execution_count": 2,
   "id": "1ed11f0e-2d08-46e0-a4a9-69918a5bc9c8",
   "metadata": {},
   "outputs": [],
   "source": [
    "from refinitiv.data.content import symbol_conversion\n",
    "import refinitiv.data as rd"
   ]
  },
  {
   "cell_type": "markdown",
   "id": "6981565c-d9c7-424a-9f5f-70471c08a97b",
   "metadata": {},
   "source": [
    "## Open the default session\n",
    "\n",
    "To open the default session ensure you have a '*refinitiv-data.config.json*' in the ***Configuration*** directory, populated with your credentials and specified a 'default' session in the config file    \n"
   ]
  },
  {
   "cell_type": "code",
   "execution_count": 3,
   "id": "38d2ea0f-7b1b-4ca9-bf05-e9f451739c2d",
   "metadata": {
    "collapsed": false,
    "jupyter": {
     "outputs_hidden": false
    },
    "pycharm": {
     "name": "#%%\n"
    }
   },
   "outputs": [
    {
     "data": {
      "text/plain": [
       "<refinitiv.data.session.platform.Definition object at 0x1bebab64ca0 {session_name='rdp'}>"
      ]
     },
     "execution_count": 3,
     "metadata": {},
     "output_type": "execute_result"
    }
   ],
   "source": [
    "rd.open_session()"
   ]
  },
  {
   "cell_type": "markdown",
   "id": "c371b95a",
   "metadata": {},
   "source": [
    "### Default conversion of one symbol (default input symbol type is RIC)"
   ]
  },
  {
   "cell_type": "code",
   "execution_count": 4,
   "id": "9c3c7f63",
   "metadata": {},
   "outputs": [
    {
     "data": {
      "text/html": [
       "<div>\n",
       "<style scoped>\n",
       "    .dataframe tbody tr th:only-of-type {\n",
       "        vertical-align: middle;\n",
       "    }\n",
       "\n",
       "    .dataframe tbody tr th {\n",
       "        vertical-align: top;\n",
       "    }\n",
       "\n",
       "    .dataframe thead th {\n",
       "        text-align: right;\n",
       "    }\n",
       "</style>\n",
       "<table border=\"1\" class=\"dataframe\">\n",
       "  <thead>\n",
       "    <tr style=\"text-align: right;\">\n",
       "      <th></th>\n",
       "      <th>TickerSymbol</th>\n",
       "      <th>CUSIP</th>\n",
       "      <th>DocumentTitle</th>\n",
       "      <th>IssueISIN</th>\n",
       "      <th>RIC</th>\n",
       "      <th>IssuerOAPermID</th>\n",
       "    </tr>\n",
       "  </thead>\n",
       "  <tbody>\n",
       "    <tr>\n",
       "      <th>MSFT.O</th>\n",
       "      <td>MSFT</td>\n",
       "      <td>594918104</td>\n",
       "      <td>Microsoft Corp, Ordinary Share, NASDAQ Global ...</td>\n",
       "      <td>US5949181045</td>\n",
       "      <td>MSFT.O</td>\n",
       "      <td>4295907168</td>\n",
       "    </tr>\n",
       "  </tbody>\n",
       "</table>\n",
       "</div>"
      ],
      "text/plain": [
       "       TickerSymbol      CUSIP  \\\n",
       "MSFT.O         MSFT  594918104   \n",
       "\n",
       "                                            DocumentTitle     IssueISIN  \\\n",
       "MSFT.O  Microsoft Corp, Ordinary Share, NASDAQ Global ...  US5949181045   \n",
       "\n",
       "           RIC IssuerOAPermID  \n",
       "MSFT.O  MSFT.O     4295907168  "
      ]
     },
     "execution_count": 4,
     "metadata": {},
     "output_type": "execute_result"
    }
   ],
   "source": [
    "response = symbol_conversion.Definition(\"MSFT.O\").get_data()\n",
    "response.data.df"
   ]
  },
  {
   "cell_type": "markdown",
   "id": "dded17b6",
   "metadata": {},
   "source": [
    "### Conversion of multiple symbols "
   ]
  },
  {
   "cell_type": "code",
   "execution_count": 5,
   "id": "028e873d",
   "metadata": {},
   "outputs": [
    {
     "data": {
      "text/html": [
       "<div>\n",
       "<style scoped>\n",
       "    .dataframe tbody tr th:only-of-type {\n",
       "        vertical-align: middle;\n",
       "    }\n",
       "\n",
       "    .dataframe tbody tr th {\n",
       "        vertical-align: top;\n",
       "    }\n",
       "\n",
       "    .dataframe thead th {\n",
       "        text-align: right;\n",
       "    }\n",
       "</style>\n",
       "<table border=\"1\" class=\"dataframe\">\n",
       "  <thead>\n",
       "    <tr style=\"text-align: right;\">\n",
       "      <th></th>\n",
       "      <th>TickerSymbol</th>\n",
       "      <th>CUSIP</th>\n",
       "      <th>DocumentTitle</th>\n",
       "      <th>IssueISIN</th>\n",
       "      <th>RIC</th>\n",
       "      <th>SEDOL</th>\n",
       "      <th>IssuerOAPermID</th>\n",
       "    </tr>\n",
       "  </thead>\n",
       "  <tbody>\n",
       "    <tr>\n",
       "      <th>MSFT.O</th>\n",
       "      <td>MSFT</td>\n",
       "      <td>594918104</td>\n",
       "      <td>Microsoft Corp, Ordinary Share, NASDAQ Global ...</td>\n",
       "      <td>US5949181045</td>\n",
       "      <td>MSFT.O</td>\n",
       "      <td>&lt;NA&gt;</td>\n",
       "      <td>4295907168</td>\n",
       "    </tr>\n",
       "    <tr>\n",
       "      <th>AAPL.O</th>\n",
       "      <td>AAPL</td>\n",
       "      <td>037833100</td>\n",
       "      <td>Apple Inc, Ordinary Share, NASDAQ Global Selec...</td>\n",
       "      <td>US0378331005</td>\n",
       "      <td>AAPL.O</td>\n",
       "      <td>&lt;NA&gt;</td>\n",
       "      <td>4295905573</td>\n",
       "    </tr>\n",
       "    <tr>\n",
       "      <th>GOOG.O</th>\n",
       "      <td>GOOG</td>\n",
       "      <td>02079K107</td>\n",
       "      <td>Alphabet Inc, Ordinary Share, Class C, NASDAQ ...</td>\n",
       "      <td>US02079K1079</td>\n",
       "      <td>GOOG.O</td>\n",
       "      <td>&lt;NA&gt;</td>\n",
       "      <td>5030853586</td>\n",
       "    </tr>\n",
       "    <tr>\n",
       "      <th>IBM.N</th>\n",
       "      <td>IBM</td>\n",
       "      <td>459200101</td>\n",
       "      <td>International Business Machines Corp, Ordinary...</td>\n",
       "      <td>US4592001014</td>\n",
       "      <td>IBM.N</td>\n",
       "      <td>2005973</td>\n",
       "      <td>4295904307</td>\n",
       "    </tr>\n",
       "  </tbody>\n",
       "</table>\n",
       "</div>"
      ],
      "text/plain": [
       "       TickerSymbol      CUSIP  \\\n",
       "MSFT.O         MSFT  594918104   \n",
       "AAPL.O         AAPL  037833100   \n",
       "GOOG.O         GOOG  02079K107   \n",
       "IBM.N           IBM  459200101   \n",
       "\n",
       "                                            DocumentTitle     IssueISIN  \\\n",
       "MSFT.O  Microsoft Corp, Ordinary Share, NASDAQ Global ...  US5949181045   \n",
       "AAPL.O  Apple Inc, Ordinary Share, NASDAQ Global Selec...  US0378331005   \n",
       "GOOG.O  Alphabet Inc, Ordinary Share, Class C, NASDAQ ...  US02079K1079   \n",
       "IBM.N   International Business Machines Corp, Ordinary...  US4592001014   \n",
       "\n",
       "           RIC    SEDOL IssuerOAPermID  \n",
       "MSFT.O  MSFT.O     <NA>     4295907168  \n",
       "AAPL.O  AAPL.O     <NA>     4295905573  \n",
       "GOOG.O  GOOG.O     <NA>     5030853586  \n",
       "IBM.N    IBM.N  2005973     4295904307  "
      ]
     },
     "execution_count": 5,
     "metadata": {},
     "output_type": "execute_result"
    }
   ],
   "source": [
    "response = symbol_conversion.Definition(symbols=[\"MSFT.O\", \"AAPL.O\", \"GOOG.O\", \"IBM.N\"]).get_data()\n",
    "response.data.df"
   ]
  },
  {
   "cell_type": "markdown",
   "id": "54dcafc5",
   "metadata": {},
   "source": [
    "### Conversion using symbol types"
   ]
  },
  {
   "cell_type": "code",
   "execution_count": 6,
   "id": "a3d5c0b1",
   "metadata": {},
   "outputs": [
    {
     "data": {
      "text/html": [
       "<div>\n",
       "<style scoped>\n",
       "    .dataframe tbody tr th:only-of-type {\n",
       "        vertical-align: middle;\n",
       "    }\n",
       "\n",
       "    .dataframe tbody tr th {\n",
       "        vertical-align: top;\n",
       "    }\n",
       "\n",
       "    .dataframe thead th {\n",
       "        text-align: right;\n",
       "    }\n",
       "</style>\n",
       "<table border=\"1\" class=\"dataframe\">\n",
       "  <thead>\n",
       "    <tr style=\"text-align: right;\">\n",
       "      <th></th>\n",
       "      <th>RIC</th>\n",
       "      <th>IssuerOAPermID</th>\n",
       "    </tr>\n",
       "  </thead>\n",
       "  <tbody>\n",
       "    <tr>\n",
       "      <th>US5949181045</th>\n",
       "      <td>MSFT.O</td>\n",
       "      <td>4295907168</td>\n",
       "    </tr>\n",
       "    <tr>\n",
       "      <th>US02079K1079</th>\n",
       "      <td>GOOG.O</td>\n",
       "      <td>5030853586</td>\n",
       "    </tr>\n",
       "  </tbody>\n",
       "</table>\n",
       "</div>"
      ],
      "text/plain": [
       "                 RIC IssuerOAPermID\n",
       "US5949181045  MSFT.O     4295907168\n",
       "US02079K1079  GOOG.O     5030853586"
      ]
     },
     "execution_count": 6,
     "metadata": {},
     "output_type": "execute_result"
    }
   ],
   "source": [
    "# Symbol types:\n",
    "# - symbol_conversion.RIC => RIC\n",
    "# - symbol_conversion.ISIN => IssueISIN\n",
    "# - symbol_conversion.CUSIP => CUSIP\n",
    "# - symbol_conversion.SEDOL => SEDOL\n",
    "# - symbol_conversion.TICKER_SYMBOL => TickerSymbol\n",
    "# - symbol_conversion.OA_PERM_ID => IssuerOAPermID\n",
    "# - symbol_conversion.LIPPER_ID => FundClassLipperID\n",
    "\n",
    "response = symbol_conversion.Definition(\n",
    "    symbols=[\"US5949181045\", \"US02079K1079\"],\n",
    "    from_symbol_type=symbol_conversion.SymbolTypes.ISIN,\n",
    "    to_symbol_types=[\n",
    "        symbol_conversion.SymbolTypes.RIC,\n",
    "        symbol_conversion.SymbolTypes.OA_PERM_ID\n",
    "    ],\n",
    ").get_data()\n",
    "\n",
    "response.data.df"
   ]
  },
  {
   "cell_type": "markdown",
   "id": "3d11bd44-1970-4190-abf5-4a9d990be839",
   "metadata": {},
   "source": [
    "### Checking the Response Data\n",
    "How to check if we got a sucessful Response and the data formats it contains"
   ]
  },
  {
   "cell_type": "code",
   "execution_count": 7,
   "id": "875d9c34",
   "metadata": {},
   "outputs": [],
   "source": [
    "response = symbol_conversion.Definition(\n",
    "    symbols = [\"60000008\", \"60003513\"],\n",
    "    from_symbol_type = symbol_conversion.SymbolTypes.LIPPER_ID\n",
    ").get_data()"
   ]
  },
  {
   "cell_type": "code",
   "execution_count": 8,
   "id": "d202aeff-9881-49c3-b8b7-d4adcbde41a7",
   "metadata": {},
   "outputs": [
    {
     "data": {
      "text/plain": [
       "{'Matches': {'60000008': {'DocumentTitle': 'AS SICAV I - American Focused Equity A Acc USD, Open-End Fund, USD, Lipper',\n",
       "   'RIC': 'LP60000008',\n",
       "   'IssueISIN': 'LU0011963831',\n",
       "   'SEDOL': '4008817',\n",
       "   'FundClassLipperID': '60000008'},\n",
       "  '60003513': {'DocumentTitle': 'JPM Japan Sustainable Equity A Acc JPY, Open-End Fund, JPY, Lipper',\n",
       "   'RIC': 'LP60003513',\n",
       "   'IssueISIN': 'LU0070214613',\n",
       "   'SEDOL': '5408364',\n",
       "   'FundClassLipperID': '60003513'}}}"
      ]
     },
     "metadata": {},
     "output_type": "display_data"
    },
    {
     "data": {
      "text/html": [
       "<div>\n",
       "<style scoped>\n",
       "    .dataframe tbody tr th:only-of-type {\n",
       "        vertical-align: middle;\n",
       "    }\n",
       "\n",
       "    .dataframe tbody tr th {\n",
       "        vertical-align: top;\n",
       "    }\n",
       "\n",
       "    .dataframe thead th {\n",
       "        text-align: right;\n",
       "    }\n",
       "</style>\n",
       "<table border=\"1\" class=\"dataframe\">\n",
       "  <thead>\n",
       "    <tr style=\"text-align: right;\">\n",
       "      <th></th>\n",
       "      <th>FundClassLipperID</th>\n",
       "      <th>DocumentTitle</th>\n",
       "      <th>IssueISIN</th>\n",
       "      <th>RIC</th>\n",
       "      <th>SEDOL</th>\n",
       "    </tr>\n",
       "  </thead>\n",
       "  <tbody>\n",
       "    <tr>\n",
       "      <th>60000008</th>\n",
       "      <td>60000008</td>\n",
       "      <td>AS SICAV I - American Focused Equity A Acc USD...</td>\n",
       "      <td>LU0011963831</td>\n",
       "      <td>LP60000008</td>\n",
       "      <td>4008817</td>\n",
       "    </tr>\n",
       "    <tr>\n",
       "      <th>60003513</th>\n",
       "      <td>60003513</td>\n",
       "      <td>JPM Japan Sustainable Equity A Acc JPY, Open-E...</td>\n",
       "      <td>LU0070214613</td>\n",
       "      <td>LP60003513</td>\n",
       "      <td>5408364</td>\n",
       "    </tr>\n",
       "  </tbody>\n",
       "</table>\n",
       "</div>"
      ],
      "text/plain": [
       "         FundClassLipperID                                      DocumentTitle  \\\n",
       "60000008          60000008  AS SICAV I - American Focused Equity A Acc USD...   \n",
       "60003513          60003513  JPM Japan Sustainable Equity A Acc JPY, Open-E...   \n",
       "\n",
       "             IssueISIN         RIC    SEDOL  \n",
       "60000008  LU0011963831  LP60000008  4008817  \n",
       "60003513  LU0070214613  LP60003513  5408364  "
      ]
     },
     "metadata": {},
     "output_type": "display_data"
    }
   ],
   "source": [
    "if response.data.raw:\n",
    "    display(response.data.raw)\n",
    "else:\n",
    "    print(\"Response does not contain raw data\")    \n",
    "# Check if the response contains a Dataframe too?\n",
    "if (not response.data.df.empty):\n",
    "    display(response.data.df)\n",
    "else:\n",
    "    print(\"\\nResponse does not contain DataFrame\")"
   ]
  },
  {
   "cell_type": "markdown",
   "id": "58c9bc68",
   "metadata": {},
   "source": [
    "## Close the default session"
   ]
  },
  {
   "cell_type": "code",
   "execution_count": 9,
   "id": "24902d47",
   "metadata": {},
   "outputs": [],
   "source": [
    "rd.close_session()"
   ]
  },
  {
   "cell_type": "code",
   "execution_count": null,
   "id": "091849dd",
   "metadata": {},
   "outputs": [],
   "source": []
  }
 ],
 "metadata": {
  "kernelspec": {
   "display_name": "RevData39",
   "language": "python",
   "name": "rd39"
  },
  "language_info": {
   "codemirror_mode": {
    "name": "ipython",
    "version": 3
   },
   "file_extension": ".py",
   "mimetype": "text/x-python",
   "name": "python",
   "nbconvert_exporter": "python",
   "pygments_lexer": "ipython3",
   "version": "3.9.4"
  }
 },
 "nbformat": 4,
 "nbformat_minor": 5
}
