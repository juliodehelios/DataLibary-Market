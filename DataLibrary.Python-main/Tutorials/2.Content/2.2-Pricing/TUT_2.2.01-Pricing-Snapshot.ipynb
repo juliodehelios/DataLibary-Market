{
 "cells": [
  {
   "cell_type": "markdown",
   "metadata": {},
   "source": [
    "----\n",
    "<img src=\"../../../files/refinitiv.png\" width=\"20%\" style=\"vertical-align: top;\">\n",
    "\n",
    "# Data Library for Python\n",
    "\n",
    "----"
   ]
  },
  {
   "cell_type": "markdown",
   "metadata": {},
   "source": [
    "## Content - Pricing - Synchronous calls\n",
    "\n",
    "This notebook demonstrates how to use the Pricing interface to retrieve snapshot data from the Refinitiv Data Platform."
   ]
  },
  {
   "cell_type": "markdown",
   "metadata": {},
   "source": [
    "## Set the location of the configuration file\n",
    "For ease of use, you can set various initialization parameters of the RD Library in the **_refinitiv-data.config.json_** configuration file - as described in the Quick Start -> Sessions example.\n",
    "\n",
    "### One config file for the tutorials\n",
    "As these tutorial Notebooks are categorised into sub-folders and to avoid the need for multiple config files, we will use the _RD_LIB_CONFIG_PATH_ environment variable to point to a single instance of the config file in the top-level ***Configuration*** folder.\n",
    "\n",
    "Before proceeding, please **ensure you have entered your credentials** into the config file in the ***Configuration*** folder."
   ]
  },
  {
   "cell_type": "code",
   "execution_count": 14,
   "metadata": {},
   "outputs": [],
   "source": [
    "import os\n",
    "os.environ[\"RD_LIB_CONFIG_PATH\"] = \"../../../Configuration\""
   ]
  },
  {
   "cell_type": "code",
   "execution_count": 15,
   "metadata": {},
   "outputs": [],
   "source": [
    "import refinitiv.data as rd\n",
    "from pandas import DataFrame\n",
    "from IPython.display import display, clear_output"
   ]
  },
  {
   "cell_type": "markdown",
   "metadata": {},
   "source": [
    "## Open the default session\n",
    "\n",
    "To open the default session ensure you have a '*refinitiv-data.config.json*' in the ***Configuration*** directory, populated with your credentials and specified a 'default' session in the config file    \n"
   ]
  },
  {
   "cell_type": "code",
   "execution_count": 16,
   "metadata": {
    "collapsed": false,
    "jupyter": {
     "outputs_hidden": false
    },
    "pycharm": {
     "name": "#%%\n"
    }
   },
   "outputs": [
    {
     "data": {
      "text/plain": [
       "<refinitiv.data.session.platform.Definition object at 0x1c97edbeaf0 {session_name='rdp'}>"
      ]
     },
     "execution_count": 16,
     "metadata": {},
     "output_type": "execute_result"
    }
   ],
   "source": [
    "# Open the Default Session\n",
    "rd.open_session()"
   ]
  },
  {
   "cell_type": "markdown",
   "metadata": {},
   "source": [
    "## Get Price Snapshot\n",
    "The following gets a snapshot from the non-streaming RDP Pricing API - note the **get_data()** call"
   ]
  },
  {
   "cell_type": "code",
   "execution_count": 17,
   "metadata": {
    "pycharm": {
     "name": "#%%\n"
    }
   },
   "outputs": [
    {
     "data": {
      "text/html": [
       "<div>\n",
       "<style scoped>\n",
       "    .dataframe tbody tr th:only-of-type {\n",
       "        vertical-align: middle;\n",
       "    }\n",
       "\n",
       "    .dataframe tbody tr th {\n",
       "        vertical-align: top;\n",
       "    }\n",
       "\n",
       "    .dataframe thead th {\n",
       "        text-align: right;\n",
       "    }\n",
       "</style>\n",
       "<table border=\"1\" class=\"dataframe\">\n",
       "  <thead>\n",
       "    <tr style=\"text-align: right;\">\n",
       "      <th></th>\n",
       "      <th>Instruments</th>\n",
       "      <th>BID</th>\n",
       "      <th>ASK</th>\n",
       "    </tr>\n",
       "  </thead>\n",
       "  <tbody>\n",
       "    <tr>\n",
       "      <th>0</th>\n",
       "      <td>EUR=</td>\n",
       "      <td>1.1315</td>\n",
       "      <td>1.1317</td>\n",
       "    </tr>\n",
       "    <tr>\n",
       "      <th>1</th>\n",
       "      <td>GBP=</td>\n",
       "      <td>1.3289</td>\n",
       "      <td>1.3294</td>\n",
       "    </tr>\n",
       "    <tr>\n",
       "      <th>2</th>\n",
       "      <td>JPY=</td>\n",
       "      <td>113.41</td>\n",
       "      <td>113.42</td>\n",
       "    </tr>\n",
       "    <tr>\n",
       "      <th>3</th>\n",
       "      <td>CAD=</td>\n",
       "      <td>1.2809</td>\n",
       "      <td>1.2813</td>\n",
       "    </tr>\n",
       "  </tbody>\n",
       "</table>\n",
       "</div>"
      ],
      "text/plain": [
       "  Instruments     BID     ASK\n",
       "0        EUR=  1.1315  1.1317\n",
       "1        GBP=  1.3289  1.3294\n",
       "2        JPY=  113.41  113.42\n",
       "3        CAD=  1.2809  1.2813"
      ]
     },
     "metadata": {},
     "output_type": "display_data"
    }
   ],
   "source": [
    "# Define our RDP Snapshot Price object\n",
    "response = rd.content.pricing.Definition(\n",
    "    ['EUR=', 'GBP=', 'JPY=', 'CAD='],\n",
    "    fields=['BID', 'ASK']\n",
    ").get_data()\n",
    "\n",
    "display(response.data.df)"
   ]
  },
  {
   "cell_type": "markdown",
   "metadata": {},
   "source": [
    "## Alternative method for Snapshot data\n",
    "If the above code generates an error, this could be because you are not licensed for the RDP Snapshot API OR you are using a **Deployed** session.   \n",
    "If this is the case, then the following can be used to request a Snapshot from the Streaming data feed (assuming you have a Streaming Data licence) - note the **get_stream()** call"
   ]
  },
  {
   "cell_type": "code",
   "execution_count": 8,
   "metadata": {},
   "outputs": [
    {
     "data": {
      "text/html": [
       "<div>\n",
       "<style scoped>\n",
       "    .dataframe tbody tr th:only-of-type {\n",
       "        vertical-align: middle;\n",
       "    }\n",
       "\n",
       "    .dataframe tbody tr th {\n",
       "        vertical-align: top;\n",
       "    }\n",
       "\n",
       "    .dataframe thead th {\n",
       "        text-align: right;\n",
       "    }\n",
       "</style>\n",
       "<table border=\"1\" class=\"dataframe\">\n",
       "  <thead>\n",
       "    <tr style=\"text-align: right;\">\n",
       "      <th></th>\n",
       "      <th>Instrument</th>\n",
       "      <th>BID</th>\n",
       "      <th>ASK</th>\n",
       "    </tr>\n",
       "  </thead>\n",
       "  <tbody>\n",
       "    <tr>\n",
       "      <th>0</th>\n",
       "      <td>EUR=</td>\n",
       "      <td>1.1314</td>\n",
       "      <td>1.1318</td>\n",
       "    </tr>\n",
       "    <tr>\n",
       "      <th>1</th>\n",
       "      <td>GBP=</td>\n",
       "      <td>1.329</td>\n",
       "      <td>1.3294</td>\n",
       "    </tr>\n",
       "    <tr>\n",
       "      <th>2</th>\n",
       "      <td>JPY=</td>\n",
       "      <td>113.51</td>\n",
       "      <td>113.53</td>\n",
       "    </tr>\n",
       "    <tr>\n",
       "      <th>3</th>\n",
       "      <td>CAD=</td>\n",
       "      <td>1.2805</td>\n",
       "      <td>1.2806</td>\n",
       "    </tr>\n",
       "  </tbody>\n",
       "</table>\n",
       "</div>"
      ],
      "text/plain": [
       "  Instrument     BID     ASK\n",
       "0       EUR=  1.1314  1.1318\n",
       "1       GBP=   1.329  1.3294\n",
       "2       JPY=  113.51  113.53\n",
       "3       CAD=  1.2805  1.2806"
      ]
     },
     "execution_count": 8,
     "metadata": {},
     "output_type": "execute_result"
    }
   ],
   "source": [
    "# Define our Streaming Price object\n",
    "non_streaming = rd.content.pricing.Definition(\n",
    "    ['EUR=', 'GBP=', 'JPY=', 'CAD='],\n",
    "    fields=['BID', 'ASK']\n",
    ").get_stream()\n",
    "\n",
    "# We want to just snap the current prices, don't need updates\n",
    "# Open the instrument in non-streaming mode\n",
    "non_streaming.open(with_updates=False)\n",
    "# Snapshot the prices at the time of the open() call\n",
    "non_streaming.get_snapshot()"
   ]
  },
  {
   "cell_type": "markdown",
   "metadata": {},
   "source": [
    "The non-streaming requests are closed by the server - **no need to close them**.   \n",
    "\n",
    "### Alternative ways of accessing instruments + values"
   ]
  },
  {
   "cell_type": "markdown",
   "metadata": {},
   "source": [
    "#### Direct Access to fields"
   ]
  },
  {
   "cell_type": "code",
   "execution_count": 9,
   "metadata": {},
   "outputs": [
    {
     "data": {
      "text/plain": [
       "1.1314"
      ]
     },
     "execution_count": 9,
     "metadata": {},
     "output_type": "execute_result"
    }
   ],
   "source": [
    "non_streaming['EUR=']['BID']"
   ]
  },
  {
   "cell_type": "code",
   "execution_count": 10,
   "metadata": {},
   "outputs": [
    {
     "data": {
      "text/plain": [
       "1.1318"
      ]
     },
     "execution_count": 10,
     "metadata": {},
     "output_type": "execute_result"
    }
   ],
   "source": [
    "eur = non_streaming['EUR=']\n",
    "eur['ASK']"
   ]
  },
  {
   "cell_type": "markdown",
   "metadata": {},
   "source": [
    "#### Iterate on fields"
   ]
  },
  {
   "cell_type": "code",
   "execution_count": 11,
   "metadata": {},
   "outputs": [
    {
     "name": "stdout",
     "output_type": "stream",
     "text": [
      "JPY=\n",
      "\tBID : 113.51\n",
      "\tASK : 113.53\n"
     ]
    }
   ],
   "source": [
    "print('JPY=')\n",
    "for field_name, field_value in non_streaming['JPY=']:\n",
    "    print(f\"\\t{field_name} : {field_value}\")"
   ]
  },
  {
   "cell_type": "markdown",
   "metadata": {},
   "source": [
    "#### Iterate on instruments and fields"
   ]
  },
  {
   "cell_type": "code",
   "execution_count": 12,
   "metadata": {},
   "outputs": [
    {
     "name": "stdout",
     "output_type": "stream",
     "text": [
      "EUR=\n",
      "\tBID : 1.1314\n",
      "\tASK : 1.1318\n",
      "GBP=\n",
      "\tBID : 1.329\n",
      "\tASK : 1.3294\n",
      "JPY=\n",
      "\tBID : 113.51\n",
      "\tASK : 113.53\n",
      "CAD=\n",
      "\tBID : 1.2805\n",
      "\tASK : 1.2806\n"
     ]
    }
   ],
   "source": [
    "for instrument in non_streaming:\n",
    "    print(instrument.name)\n",
    "    for field_name, field_value in instrument:\n",
    "        print(f\"\\t{field_name} : {field_value}\")"
   ]
  },
  {
   "cell_type": "markdown",
   "metadata": {},
   "source": [
    "## Close the session"
   ]
  },
  {
   "cell_type": "code",
   "execution_count": 13,
   "metadata": {
    "pycharm": {
     "name": "#%%\n"
    }
   },
   "outputs": [],
   "source": [
    "rd.close_session()"
   ]
  },
  {
   "cell_type": "code",
   "execution_count": null,
   "metadata": {},
   "outputs": [],
   "source": []
  }
 ],
 "metadata": {
  "kernelspec": {
   "display_name": "RevData39",
   "language": "python",
   "name": "rd39"
  },
  "language_info": {
   "codemirror_mode": {
    "name": "ipython",
    "version": 3
   },
   "file_extension": ".py",
   "mimetype": "text/x-python",
   "name": "python",
   "nbconvert_exporter": "python",
   "pygments_lexer": "ipython3",
   "version": "3.9.4"
  }
 },
 "nbformat": 4,
 "nbformat_minor": 4
}
