{
 "cells": [
  {
   "cell_type": "markdown",
   "metadata": {},
   "source": [
    "----\n",
    "<img src=\"../../../files/refinitiv.png\" width=\"20%\" style=\"vertical-align: top;\">\n",
    "\n",
    "# Data Library for Python\n",
    "\n",
    "----"
   ]
  },
  {
   "cell_type": "markdown",
   "metadata": {},
   "source": [
    "## Content - Pricing - Chain constituents\n",
    "\n",
    "This notebook demonstrates how to use the Pricing interface to retrieve the consituents of a Chain instrument :\n",
    "- either as a static snapshot of the current Constituent RICs\n",
    "- or streaming updates for any changes to Constituent RICs"
   ]
  },
  {
   "cell_type": "markdown",
   "metadata": {},
   "source": [
    "## Set the location of the configuration file\n",
    "For ease of use, you can set various initialization parameters of the RD Library in the **_refinitiv-data.config.json_** configuration file - as described in the Quick Start -> Sessions example.\n",
    "\n",
    "### One config file for the tutorials\n",
    "As these tutorial Notebooks are categorised into sub-folders and to avoid the need for multiple config files, we will use the _RD_LIB_CONFIG_PATH_ environment variable to point to a single instance of the config file in the top-level ***Configuration*** folder.\n",
    "\n",
    "Before proceeding, please **ensure you have entered your credentials** into the config file in the ***Configuration*** folder."
   ]
  },
  {
   "cell_type": "code",
   "execution_count": 1,
   "metadata": {},
   "outputs": [],
   "source": [
    "import os\n",
    "os.environ[\"RD_LIB_CONFIG_PATH\"] = \"../../../Configuration\""
   ]
  },
  {
   "cell_type": "code",
   "execution_count": 2,
   "metadata": {},
   "outputs": [],
   "source": [
    "from refinitiv.data.content import pricing\n",
    "import refinitiv.data as rd\n",
    "from pandas import DataFrame\n",
    "from IPython.display import display, clear_output"
   ]
  },
  {
   "cell_type": "markdown",
   "metadata": {},
   "source": [
    "## Open the default session\n",
    "\n",
    "To open the default session ensure you have a '*refinitiv-data.config.json*' in the ***Configuration*** directory, populated with your credentials and specified a 'default' session in the config file    \n"
   ]
  },
  {
   "cell_type": "code",
   "execution_count": 3,
   "metadata": {
    "collapsed": false,
    "jupyter": {
     "outputs_hidden": false
    },
    "pycharm": {
     "name": "#%%\n"
    }
   },
   "outputs": [
    {
     "data": {
      "text/plain": [
       "<refinitiv.data.session.platform.Definition object at 0x28b50559ca0 {session_name='rdp'}>"
      ]
     },
     "execution_count": 3,
     "metadata": {},
     "output_type": "execute_result"
    }
   ],
   "source": [
    "rd.open_session()"
   ]
  },
  {
   "cell_type": "markdown",
   "metadata": {},
   "source": [
    "## Define and open Chain\n",
    "Define a streaming price object for the FTSE index. "
   ]
  },
  {
   "cell_type": "code",
   "execution_count": 4,
   "metadata": {},
   "outputs": [],
   "source": [
    "# define a chain to fetch FTSE constituent RICs\n",
    "ftse = pricing.chain.Definition(name=\"0#.FTSE\").get_stream()"
   ]
  },
  {
   "cell_type": "markdown",
   "metadata": {},
   "source": [
    "Then open method tells the Chain object to subscribe to a stream of the constituent RICs."
   ]
  },
  {
   "cell_type": "code",
   "execution_count": 5,
   "metadata": {},
   "outputs": [
    {
     "data": {
      "text/plain": [
       "<OpenState.Opened: 1>"
      ]
     },
     "execution_count": 5,
     "metadata": {},
     "output_type": "execute_result"
    }
   ],
   "source": [
    "ftse.open()"
   ]
  },
  {
   "cell_type": "markdown",
   "metadata": {},
   "source": [
    "#### Get a list of the current Constituent RICs"
   ]
  },
  {
   "cell_type": "markdown",
   "metadata": {},
   "source": [
    "Once the open method returns, the Chain object is ready to be used. Its internal cache will be updated as and when the list of Consituent changes - which for many Chains is not that often - e.g. the FTSE constituents don't change that often.\n",
    "However, for some chains, the constituents can change more often."
   ]
  },
  {
   "cell_type": "code",
   "execution_count": 6,
   "metadata": {},
   "outputs": [
    {
     "data": {
      "text/plain": [
       "['AAL.L',\n",
       " 'ABDN.L',\n",
       " 'ABF.L',\n",
       " 'ADML.L',\n",
       " 'AHT.L',\n",
       " 'ANTO.L',\n",
       " 'AUTOA.L',\n",
       " 'AV.L',\n",
       " 'AVST.L',\n",
       " 'AVV.L',\n",
       " 'AZN.L',\n",
       " 'BAES.L',\n",
       " 'BARC.L',\n",
       " 'BATS.L',\n",
       " 'BDEV.L',\n",
       " 'BHPB.L',\n",
       " 'BKGH.L',\n",
       " 'BLND.L',\n",
       " 'BMEB.L',\n",
       " 'BNZL.L',\n",
       " 'BP.L',\n",
       " 'BRBY.L',\n",
       " 'BT.L',\n",
       " 'CCH.L',\n",
       " 'CPG.L',\n",
       " 'CRDA.L',\n",
       " 'CRH.L',\n",
       " 'DCC.L',\n",
       " 'DGE.L',\n",
       " 'DPH.L',\n",
       " 'ECM.L',\n",
       " 'ENT.L',\n",
       " 'EVRE.L',\n",
       " 'EXPN.L',\n",
       " 'FERG.L',\n",
       " 'FLTRF.L',\n",
       " 'FRES.L',\n",
       " 'GLEN.L',\n",
       " 'GSK.L',\n",
       " 'HIK.L',\n",
       " 'HLMA.L',\n",
       " 'HRGV.L',\n",
       " 'HSBA.L',\n",
       " 'ICAG.L',\n",
       " 'ICP.L',\n",
       " 'IHG.L',\n",
       " 'III.L',\n",
       " 'IMB.L',\n",
       " 'INF.L',\n",
       " 'ITRK.L',\n",
       " 'ITV.L',\n",
       " 'JD.L',\n",
       " 'KGF.L',\n",
       " 'LAND.L',\n",
       " 'LGEN.L',\n",
       " 'LLOY.L',\n",
       " 'LSEG.L',\n",
       " 'MGGT.L',\n",
       " 'MNDI.L',\n",
       " 'MNG.L',\n",
       " 'MRON.L',\n",
       " 'NG.L',\n",
       " 'NWG.L',\n",
       " 'NXT.L',\n",
       " 'OCDO.L',\n",
       " 'PHNX.L',\n",
       " 'POLYP.L',\n",
       " 'PRU.L',\n",
       " 'PSHP.L',\n",
       " 'PSN.L',\n",
       " 'PSON.L',\n",
       " 'RDSa.L',\n",
       " 'RDSb.L',\n",
       " 'REL.L',\n",
       " 'RIO.L',\n",
       " 'RKT.L',\n",
       " 'RMG.L',\n",
       " 'RMV.L',\n",
       " 'RR.L',\n",
       " 'RTO.L',\n",
       " 'SBRY.L',\n",
       " 'SDR.L',\n",
       " 'SGE.L',\n",
       " 'SGRO.L',\n",
       " 'SJP.L',\n",
       " 'SKG.L',\n",
       " 'SMDS.L',\n",
       " 'SMIN.L',\n",
       " 'SMT.L',\n",
       " 'SN.L',\n",
       " 'SPX.L',\n",
       " 'SSE.L',\n",
       " 'STAN.L',\n",
       " 'SVT.L',\n",
       " 'TSCO.L',\n",
       " 'TW.L',\n",
       " 'ULVR.L',\n",
       " 'UU.L',\n",
       " 'VOD.L',\n",
       " 'WPP.L',\n",
       " 'WTB.L']"
      ]
     },
     "metadata": {},
     "output_type": "display_data"
    }
   ],
   "source": [
    "constituent_list = ftse.constituents\n",
    "display(constituent_list)"
   ]
  },
  {
   "cell_type": "markdown",
   "metadata": {},
   "source": [
    "### Other means of accessing the list of constituents"
   ]
  },
  {
   "cell_type": "markdown",
   "metadata": {},
   "source": [
    "##### Check if the Stream really is for a chain instrument?"
   ]
  },
  {
   "cell_type": "code",
   "execution_count": 7,
   "metadata": {},
   "outputs": [
    {
     "name": "stdout",
     "output_type": "stream",
     "text": [
      "<refinitiv.data.content.pricing.chain.Stream object at 0x28b50586f40 {name='0#.FTSE'}> is_chain : True\n"
     ]
    }
   ],
   "source": [
    "# check is this a chain or not?\n",
    "print(f\"{ftse} is_chain :\", ftse.is_chain )"
   ]
  },
  {
   "cell_type": "markdown",
   "metadata": {},
   "source": [
    "#### Get constituent in the chain record"
   ]
  },
  {
   "cell_type": "code",
   "execution_count": 8,
   "metadata": {},
   "outputs": [
    {
     "name": "stdout",
     "output_type": "stream",
     "text": [
      "<refinitiv.data.content.pricing.chain.Stream object at 0x28b50586f40 {name='0#.FTSE'}> constituent at index 0 : AAL.L\n"
     ]
    }
   ],
   "source": [
    "# at this point we do snapshot for 1st RIC - as its a streaming request, it may different to the above\n",
    "first_constituent = ftse.constituents[0]\n",
    "print(f\"{ftse} constituent at index 0 :\", first_constituent )"
   ]
  },
  {
   "cell_type": "code",
   "execution_count": 9,
   "metadata": {},
   "outputs": [
    {
     "name": "stdout",
     "output_type": "stream",
     "text": [
      "0 = AAL.L\n",
      "1 = ABDN.L\n",
      "2 = ABF.L\n",
      "3 = ADML.L\n",
      "4 = AHT.L\n",
      "5 = ANTO.L\n",
      "6 = AUTOA.L\n",
      "7 = AV.L\n",
      "8 = AVST.L\n",
      "9 = AVV.L\n",
      "10 = AZN.L\n",
      "11 = BAES.L\n",
      "12 = BARC.L\n",
      "13 = BATS.L\n",
      "14 = BDEV.L\n",
      "15 = BHPB.L\n",
      "16 = BKGH.L\n",
      "17 = BLND.L\n",
      "18 = BMEB.L\n",
      "19 = BNZL.L\n",
      "20 = BP.L\n",
      "21 = BRBY.L\n",
      "22 = BT.L\n",
      "23 = CCH.L\n",
      "24 = CPG.L\n",
      "25 = CRDA.L\n",
      "26 = CRH.L\n",
      "27 = DCC.L\n",
      "28 = DGE.L\n",
      "29 = DPH.L\n",
      "30 = ECM.L\n",
      "31 = ENT.L\n",
      "32 = EVRE.L\n",
      "33 = EXPN.L\n",
      "34 = FERG.L\n",
      "35 = FLTRF.L\n",
      "36 = FRES.L\n",
      "37 = GLEN.L\n",
      "38 = GSK.L\n",
      "39 = HIK.L\n",
      "40 = HLMA.L\n",
      "41 = HRGV.L\n",
      "42 = HSBA.L\n",
      "43 = ICAG.L\n",
      "44 = ICP.L\n",
      "45 = IHG.L\n",
      "46 = III.L\n",
      "47 = IMB.L\n",
      "48 = INF.L\n",
      "49 = ITRK.L\n",
      "50 = ITV.L\n",
      "51 = JD.L\n",
      "52 = KGF.L\n",
      "53 = LAND.L\n",
      "54 = LGEN.L\n",
      "55 = LLOY.L\n",
      "56 = LSEG.L\n",
      "57 = MGGT.L\n",
      "58 = MNDI.L\n",
      "59 = MNG.L\n",
      "60 = MRON.L\n",
      "61 = NG.L\n",
      "62 = NWG.L\n",
      "63 = NXT.L\n",
      "64 = OCDO.L\n",
      "65 = PHNX.L\n",
      "66 = POLYP.L\n",
      "67 = PRU.L\n",
      "68 = PSHP.L\n",
      "69 = PSN.L\n",
      "70 = PSON.L\n",
      "71 = RDSa.L\n",
      "72 = RDSb.L\n",
      "73 = REL.L\n",
      "74 = RIO.L\n",
      "75 = RKT.L\n",
      "76 = RMG.L\n",
      "77 = RMV.L\n",
      "78 = RR.L\n",
      "79 = RTO.L\n",
      "80 = SBRY.L\n",
      "81 = SDR.L\n",
      "82 = SGE.L\n",
      "83 = SGRO.L\n",
      "84 = SJP.L\n",
      "85 = SKG.L\n",
      "86 = SMDS.L\n",
      "87 = SMIN.L\n",
      "88 = SMT.L\n",
      "89 = SN.L\n",
      "90 = SPX.L\n",
      "91 = SSE.L\n",
      "92 = STAN.L\n",
      "93 = SVT.L\n",
      "94 = TSCO.L\n",
      "95 = TW.L\n",
      "96 = ULVR.L\n",
      "97 = UU.L\n",
      "98 = VOD.L\n",
      "99 = WPP.L\n",
      "100 = WTB.L\n"
     ]
    }
   ],
   "source": [
    "# loop over all constituents in the chain record\n",
    "for index, constituent in enumerate( ftse.constituents ):\n",
    "    print(f\"{index} = {constituent}\")"
   ]
  },
  {
   "cell_type": "markdown",
   "metadata": {},
   "source": [
    "#### Get the summary links of the chain record"
   ]
  },
  {
   "cell_type": "code",
   "execution_count": 10,
   "metadata": {},
   "outputs": [
    {
     "name": "stdout",
     "output_type": "stream",
     "text": [
      "summary links of the chain are : ['.FTSE', '.AD.FTSE']\n"
     ]
    }
   ],
   "source": [
    "# Chains often have Summary RICs for the chain\n",
    "summary_links = ftse.summary_links\n",
    "print(f\"summary links of the chain are : {summary_links}\")"
   ]
  },
  {
   "cell_type": "markdown",
   "metadata": {},
   "source": [
    "### Close the Streaming Chain instrument"
   ]
  },
  {
   "cell_type": "code",
   "execution_count": 11,
   "metadata": {},
   "outputs": [
    {
     "data": {
      "text/plain": [
       "<OpenState.Closed: 3>"
      ]
     },
     "execution_count": 11,
     "metadata": {},
     "output_type": "execute_result"
    }
   ],
   "source": [
    "ftse.close()"
   ]
  },
  {
   "cell_type": "markdown",
   "metadata": {},
   "source": [
    "Once close() is called the Chain stops updating its internal cache of Constituents. The get_constituents function can still be called but it will always return the state of the chaing before the close was called. "
   ]
  },
  {
   "cell_type": "markdown",
   "metadata": {},
   "source": [
    "#### Additional Parameters\n",
    "You can control whether to skip summary Links and/or empty constituents - with the optional parameters which default to True."
   ]
  },
  {
   "cell_type": "code",
   "execution_count": 12,
   "metadata": {},
   "outputs": [],
   "source": [
    "ftse = rd.content.pricing.chain.Definition(name=\"0#.FTSE\", \n",
    "            skip_summary_links=True, skip_empty=True ).get_stream()"
   ]
  },
  {
   "cell_type": "markdown",
   "metadata": {},
   "source": [
    "#### Snap the Chain constituents\n",
    "If you are not planning to use the Chain over an extended period of time and/or just want to snap the current Constituents, you can open it without updates."
   ]
  },
  {
   "cell_type": "code",
   "execution_count": 13,
   "metadata": {},
   "outputs": [
    {
     "data": {
      "text/plain": [
       "<OpenState.Opened: 1>"
      ]
     },
     "execution_count": 13,
     "metadata": {},
     "output_type": "execute_result"
    }
   ],
   "source": [
    "ftse.open(with_updates=False)"
   ]
  },
  {
   "cell_type": "markdown",
   "metadata": {},
   "source": [
    "The Library will request the Chain and then close the stream once it has received a response from the server.   \n",
    "You can then use the get_constituents function to access the consituent list as they were at the time of open() call."
   ]
  },
  {
   "cell_type": "markdown",
   "metadata": {},
   "source": [
    "## Close the session"
   ]
  },
  {
   "cell_type": "code",
   "execution_count": 14,
   "metadata": {
    "tags": []
   },
   "outputs": [],
   "source": [
    "rd.close_session()"
   ]
  },
  {
   "cell_type": "code",
   "execution_count": null,
   "metadata": {},
   "outputs": [],
   "source": []
  }
 ],
 "metadata": {
  "kernelspec": {
   "display_name": "RevData39",
   "language": "python",
   "name": "rd39"
  },
  "language_info": {
   "codemirror_mode": {
    "name": "ipython",
    "version": 3
   },
   "file_extension": ".py",
   "mimetype": "text/x-python",
   "name": "python",
   "nbconvert_exporter": "python",
   "pygments_lexer": "ipython3",
   "version": "3.9.4"
  }
 },
 "nbformat": 4,
 "nbformat_minor": 4
}
