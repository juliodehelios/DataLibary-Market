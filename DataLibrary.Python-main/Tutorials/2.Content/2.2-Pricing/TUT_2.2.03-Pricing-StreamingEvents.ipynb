{
 "cells": [
  {
   "cell_type": "markdown",
   "metadata": {},
   "source": [
    "----\n",
    "<img src=\"../../../files/refinitiv.png\" width=\"20%\" style=\"vertical-align: top;\">\n",
    "\n",
    "# Data Library for Python\n",
    "\n",
    "----"
   ]
  },
  {
   "cell_type": "markdown",
   "metadata": {},
   "source": [
    "## Content - Pricing - Streaming Events\n",
    "\n",
    "This notebook demonstrates using a Pricing object to receive streaming real-time data via the event driven interface.  "
   ]
  },
  {
   "cell_type": "markdown",
   "metadata": {},
   "source": [
    "## Set the location of the configuration file\n",
    "For ease of use, you can set various initialization parameters of the RD Library in the **_refinitiv-data.config.json_** configuration file - as described in the Quick Start -> Sessions example.\n",
    "\n",
    "### One config file for the tutorials\n",
    "As these tutorial Notebooks are categorised into sub-folders and to avoid the need for multiple config files, we will use the _RD_LIB_CONFIG_PATH_ environment variable to point to a single instance of the config file in the top-level ***Configuration*** folder.\n",
    "\n",
    "Before proceeding, please **ensure you have entered your credentials** into the config file in the ***Configuration*** folder."
   ]
  },
  {
   "cell_type": "code",
   "execution_count": 1,
   "metadata": {},
   "outputs": [],
   "source": [
    "import os\n",
    "os.environ[\"RD_LIB_CONFIG_PATH\"] = \"../../../Configuration\""
   ]
  },
  {
   "cell_type": "code",
   "execution_count": 2,
   "metadata": {},
   "outputs": [],
   "source": [
    "import refinitiv.data as rd\n",
    "from pandas import DataFrame\n",
    "from IPython.display import display, clear_output"
   ]
  },
  {
   "cell_type": "markdown",
   "metadata": {},
   "source": [
    "## Open the default session\n",
    "\n",
    "To open the default session ensure you have a '*refinitiv-data.config.json*' in the ***Configuration*** directory, populated with your credentials and specified a 'default' session in the config file    \n"
   ]
  },
  {
   "cell_type": "code",
   "execution_count": 3,
   "metadata": {
    "collapsed": false,
    "jupyter": {
     "outputs_hidden": false
    },
    "pycharm": {
     "name": "#%%\n"
    }
   },
   "outputs": [
    {
     "data": {
      "text/plain": [
       "<refinitiv.data.session.Definition object at 0x7fdd732222b0 {name='workspace'}>"
      ]
     },
     "execution_count": 3,
     "metadata": {},
     "output_type": "execute_result"
    }
   ],
   "source": [
    "rd.open_session()"
   ]
  },
  {
   "cell_type": "markdown",
   "metadata": {},
   "source": [
    "### Define a callback to receive streaming data"
   ]
  },
  {
   "cell_type": "code",
   "execution_count": 4,
   "metadata": {},
   "outputs": [],
   "source": [
    "# Function to handle the intial Refresh for each item\n",
    "def handle_refresh(fields, instrument_name, streaming_prices):\n",
    "    # One way to access data - get dataframe\n",
    "    print(f\"Refresh : {streaming_prices.get_snapshot()}\")\n",
    "    return\n",
    "\n",
    "# Function to update dataframe, when we receive updates for individual items\n",
    "def handle_update(fields, instrument_name, streaming_prices):\n",
    "    # Alternative way of accesing data - access the updated fields\n",
    "    print(f\"Update : {instrument_name}:{fields}\")\n",
    "    \n",
    "# Function to extract status code for an item as & when received from server\n",
    "# Status contains a 'code' and a more detailed 'message'\n",
    "def handle_status(status, instrument_name, streaming_prices):\n",
    "    state=status['State']\n",
    "    print(f\"Status : {instrument_name}:{state['Code']}:{state['Text']}\")"
   ]
  },
  {
   "cell_type": "markdown",
   "metadata": {},
   "source": [
    "### Create streams for our RICs and open them"
   ]
  },
  {
   "cell_type": "code",
   "execution_count": 5,
   "metadata": {},
   "outputs": [
    {
     "name": "stdout",
     "output_type": "stream",
     "text": [
      "Refresh :   Instrument     ASK     BID\n",
      "0       EUR=  1.0596  1.0592\n",
      "1       GBP=    <NA>    <NA>\n",
      "2       JPY=    <NA>    <NA>\n",
      "3     BADRIC    <NA>    <NA>\n",
      "Refresh :   Instrument     ASK     BID\n",
      "0       EUR=  1.0596  1.0592\n",
      "1       GBP=  1.2306  1.2302\n",
      "2       JPY=    <NA>    <NA>\n",
      "3     BADRIC    <NA>    <NA>\n",
      "Refresh :   Instrument     ASK     BID\n",
      "0       EUR=  1.0596  1.0592\n",
      "1       GBP=  1.2306  1.2302\n",
      "2       JPY=  135.87  135.84\n",
      "3     BADRIC    <NA>    <NA>\n",
      "Status : BADRIC:NotFound:The record could not be found\n"
     ]
    },
    {
     "data": {
      "text/plain": [
       "<OpenState.Opened: 'Opened'>"
      ]
     },
     "execution_count": 5,
     "metadata": {},
     "output_type": "execute_result"
    },
    {
     "name": "stdout",
     "output_type": "stream",
     "text": [
      "Update : GBP=:{'ASK': 1.2305, 'BID': 1.2304}\n",
      "Update : JPY=:{'ASK': 135.86, 'BID': 135.85}\n",
      "Update : EUR=:{'ASK': 1.0595, 'BID': 1.0594}\n",
      "Update : JPY=:{'ASK': 135.86, 'BID': 135.85}\n",
      "Update : EUR=:{'ASK': 1.0596, 'BID': 1.0592}\n",
      "Update : JPY=:{'ASK': 135.89, 'BID': 135.84}\n",
      "Update : EUR=:{'ASK': 1.0595, 'BID': 1.0593}\n",
      "Update : JPY=:{'ASK': 135.86, 'BID': 135.85}\n",
      "Update : GBP=:{'ASK': 1.2305, 'BID': 1.2304}\n",
      "Update : JPY=:{'ASK': 135.86, 'BID': 135.85}\n",
      "Update : JPY=:{'ASK': 135.86, 'BID': 135.85}\n",
      "Update : EUR=:{'ASK': 1.0596, 'BID': 1.0592}\n",
      "Update : GBP=:{'ASK': 1.2306, 'BID': 1.2302}\n",
      "Update : JPY=:{'ASK': 135.86, 'BID': 135.83}\n",
      "Update : EUR=:{'ASK': 1.0594, 'BID': 1.0593}\n",
      "Update : GBP=:{'ASK': 1.2304, 'BID': 1.2303}\n"
     ]
    }
   ],
   "source": [
    "# Define our Streaming Price object - including a bad ric for illustrative purposes\n",
    "streams = rd.content.pricing.Definition(\n",
    "    ['EUR=', 'GBP=', 'JPY=', 'BADRIC'],\n",
    "    fields=['BID', 'ASK']\n",
    ").get_stream()\n",
    "\n",
    "# Callback for if we wanted to handle invidiual Refresh for each item\n",
    "streams.on_refresh(handle_refresh)\n",
    "# Specify callback handler for any updates\n",
    "streams.on_update(handle_update)\n",
    "# Specify callback handler for any updates\n",
    "streams.on_status(handle_status)\n",
    "\n",
    "# Send the requests to the server and open the streams for all items\n",
    "streams.open()"
   ]
  },
  {
   "cell_type": "markdown",
   "metadata": {},
   "source": [
    "## Close the stream"
   ]
  },
  {
   "cell_type": "code",
   "execution_count": 6,
   "metadata": {},
   "outputs": [
    {
     "name": "stdout",
     "output_type": "stream",
     "text": [
      "Update : JPY=:{'ASK': 135.86, 'BID': 135.85}\n",
      "Update : EUR=:{'ASK': 1.0595, 'BID': 1.0593}\n"
     ]
    },
    {
     "data": {
      "text/plain": [
       "<OpenState.Closed: 'Closed'>"
      ]
     },
     "execution_count": 6,
     "metadata": {},
     "output_type": "execute_result"
    }
   ],
   "source": [
    "streams.close()"
   ]
  },
  {
   "cell_type": "markdown",
   "metadata": {},
   "source": [
    "## Close the session"
   ]
  },
  {
   "cell_type": "code",
   "execution_count": 7,
   "metadata": {},
   "outputs": [],
   "source": [
    "rd.close_session()"
   ]
  },
  {
   "cell_type": "code",
   "execution_count": null,
   "metadata": {},
   "outputs": [],
   "source": []
  }
 ],
 "metadata": {
  "kernelspec": {
   "display_name": "Python 3 (ipykernel)",
   "language": "python",
   "name": "python3"
  },
  "language_info": {
   "codemirror_mode": {
    "name": "ipython",
    "version": 3
   },
   "file_extension": ".py",
   "mimetype": "text/x-python",
   "name": "python",
   "nbconvert_exporter": "python",
   "pygments_lexer": "ipython3",
   "version": "3.9.7"
  }
 },
 "nbformat": 4,
 "nbformat_minor": 4
}
