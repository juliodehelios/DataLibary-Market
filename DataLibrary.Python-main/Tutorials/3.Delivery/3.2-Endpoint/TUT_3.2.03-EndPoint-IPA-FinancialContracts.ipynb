{
 "cells": [
  {
   "cell_type": "markdown",
   "metadata": {},
   "source": [
    "# Refinitiv Data Platform Library for Python\n",
    "## Delivery - EndPoint - Quantitative Analytics - Financial Contracts"
   ]
  },
  {
   "cell_type": "markdown",
   "metadata": {},
   "source": [
    "This notebook demonstrates how the Delivery Layer of the library can be used to perform Quantitative Analytics on the Refinitiv Data Platform - using the Delivery Layer's Endpoint interface to retrieve content directly from the Endpoint."
   ]
  },
  {
   "cell_type": "markdown",
   "metadata": {},
   "source": [
    "## Set the location of the configuration file\n",
    "For ease of use, you can set various initialization parameters of the RD Library in the **_refinitiv-data.config.json_** configuration file - as described in the Quick Start -> Sessions example.\n",
    "\n",
    "### One config file for the tutorials\n",
    "As these tutorial Notebooks are categorised into sub-folders and to avoid the need for multiple config files, we will use the _RD_LIB_CONFIG_PATH_ environment variable to point to a single instance of the config file in the top-level ***Configuration*** folder.\n",
    "\n",
    "Before proceeding, please **ensure you have entered your credentials** into the config file in the ***Configuration*** folder."
   ]
  },
  {
   "cell_type": "code",
   "execution_count": 1,
   "metadata": {},
   "outputs": [],
   "source": [
    "import os\n",
    "os.environ[\"RD_LIB_CONFIG_PATH\"] = \"../../../Configuration\""
   ]
  },
  {
   "cell_type": "code",
   "execution_count": 2,
   "metadata": {},
   "outputs": [],
   "source": [
    "from refinitiv.data.delivery import endpoint_request\n",
    "import refinitiv.data as rd\n",
    "import pandas as pd\n",
    "import json"
   ]
  },
  {
   "cell_type": "markdown",
   "metadata": {},
   "source": [
    "## Open the default session\n",
    "\n",
    "To open the default session ensure you have a '*refinitiv-data.config.json*' in the ***Configuration*** directory, populated with your credentials and specified a 'default' session in the config file    \n"
   ]
  },
  {
   "cell_type": "code",
   "execution_count": 3,
   "metadata": {
    "collapsed": false,
    "jupyter": {
     "outputs_hidden": false
    },
    "pycharm": {
     "name": "#%%\n"
    }
   },
   "outputs": [
    {
     "data": {
      "text/plain": [
       "<refinitiv.data.session.platform.Definition object at 0x266cd523f40 {session_name='rdp'}>"
      ]
     },
     "execution_count": 3,
     "metadata": {},
     "output_type": "execute_result"
    }
   ],
   "source": [
    "rd.open_session()"
   ]
  },
  {
   "cell_type": "markdown",
   "metadata": {},
   "source": [
    "## Define the endpoint request"
   ]
  },
  {
   "cell_type": "code",
   "execution_count": 4,
   "metadata": {},
   "outputs": [],
   "source": [
    "request_definition = rd.delivery.endpoint_request.Definition(\n",
    "    url = \"/data/quantitative-analytics/v1/financial-contracts\",\n",
    "    method = rd.delivery.endpoint_request.RequestMethod.POST,\n",
    "    body_parameters = {\n",
    "                          \"fields\": [\n",
    "                            \"InstrumentCode\",\n",
    "                            \"BondType\",\n",
    "                            \"IssueDate\",\n",
    "                            \"EndDate\",\n",
    "                            \"CouponRatePercent\",\n",
    "                            \"Accrued\",\n",
    "                            \"CleanPrice\",\n",
    "                            \"DirtyPrice\",\n",
    "                            \"YieldPercent\",\n",
    "                            \"RedemptionDate\",\n",
    "                            \"ModifiedDuration\",\n",
    "                            \"Duration\",\n",
    "                            \"DV01Bp\",\n",
    "                            \"AverageLife\",\n",
    "                            \"Convexity\"\n",
    "                          ],\n",
    "                          \"outputs\": [\n",
    "                            \"Headers\",\n",
    "                            \"Data\"\n",
    "                          ],\n",
    "                          \"universe\": [\n",
    "                            {\n",
    "                              \"instrumentType\": \"Bond\",\n",
    "                              \"instrumentDefinition\": {\n",
    "                                \"instrumentTag\": \"TreasuryBond_10Y\",\n",
    "                                \"instrumentCode\": \"US10YT=RR\"\n",
    "                              }\n",
    "                            }\n",
    "                          ]\n",
    "                    }\n",
    ")"
   ]
  },
  {
   "cell_type": "markdown",
   "metadata": {},
   "source": [
    "## Send a request"
   ]
  },
  {
   "cell_type": "code",
   "execution_count": 5,
   "metadata": {},
   "outputs": [
    {
     "name": "stdout",
     "output_type": "stream",
     "text": [
      "https://api.refinitiv.com /data/quantitative-analytics/beta1/financial-contracts None None\n"
     ]
    }
   ],
   "source": [
    "response = request_definition.get_data()"
   ]
  },
  {
   "cell_type": "markdown",
   "metadata": {},
   "source": [
    "## Display the result \n",
    "Notice how the response contains the column headings for the data"
   ]
  },
  {
   "cell_type": "code",
   "execution_count": 9,
   "metadata": {},
   "outputs": [
    {
     "data": {
      "text/html": [
       "<div>\n",
       "<style scoped>\n",
       "    .dataframe tbody tr th:only-of-type {\n",
       "        vertical-align: middle;\n",
       "    }\n",
       "\n",
       "    .dataframe tbody tr th {\n",
       "        vertical-align: top;\n",
       "    }\n",
       "\n",
       "    .dataframe thead th {\n",
       "        text-align: right;\n",
       "    }\n",
       "</style>\n",
       "<table border=\"1\" class=\"dataframe\">\n",
       "  <thead>\n",
       "    <tr style=\"text-align: right;\">\n",
       "      <th></th>\n",
       "      <th>InstrumentCode</th>\n",
       "      <th>BondType</th>\n",
       "      <th>IssueDate</th>\n",
       "      <th>EndDate</th>\n",
       "      <th>CouponRatePercent</th>\n",
       "      <th>Accrued</th>\n",
       "      <th>CleanPrice</th>\n",
       "      <th>DirtyPrice</th>\n",
       "      <th>YieldPercent</th>\n",
       "      <th>RedemptionDate</th>\n",
       "      <th>ModifiedDuration</th>\n",
       "      <th>Duration</th>\n",
       "      <th>DV01Bp</th>\n",
       "      <th>AverageLife</th>\n",
       "      <th>Convexity</th>\n",
       "    </tr>\n",
       "  </thead>\n",
       "  <tbody>\n",
       "    <tr>\n",
       "      <th>0</th>\n",
       "      <td>US10YT=RR</td>\n",
       "      <td>FixedRateBond</td>\n",
       "      <td>2021-11-15</td>\n",
       "      <td>2031-11-15T00:00:00Z</td>\n",
       "      <td>1.375</td>\n",
       "      <td>0.132942</td>\n",
       "      <td>99.726562</td>\n",
       "      <td>99.859504</td>\n",
       "      <td>1.404632</td>\n",
       "      <td>2031-11-15</td>\n",
       "      <td>9.214662</td>\n",
       "      <td>9.279378</td>\n",
       "      <td>9.201717</td>\n",
       "      <td>9.903315</td>\n",
       "      <td>93.145338</td>\n",
       "    </tr>\n",
       "  </tbody>\n",
       "</table>\n",
       "</div>"
      ],
      "text/plain": [
       "  InstrumentCode       BondType   IssueDate               EndDate  \\\n",
       "0      US10YT=RR  FixedRateBond  2021-11-15  2031-11-15T00:00:00Z   \n",
       "\n",
       "   CouponRatePercent   Accrued  CleanPrice  DirtyPrice  YieldPercent  \\\n",
       "0              1.375  0.132942   99.726562   99.859504      1.404632   \n",
       "\n",
       "  RedemptionDate  ModifiedDuration  Duration    DV01Bp  AverageLife  Convexity  \n",
       "0     2031-11-15          9.214662  9.279378  9.201717     9.903315  93.145338  "
      ]
     },
     "metadata": {},
     "output_type": "display_data"
    }
   ],
   "source": [
    "if response.is_success:\n",
    "    headers = [h['name'] for h in response.data.raw['headers']]\n",
    "    df = pd.DataFrame(data=response.data.raw['data'], columns=headers)\n",
    "    display(df)"
   ]
  },
  {
   "cell_type": "markdown",
   "metadata": {},
   "source": [
    "## Close the session"
   ]
  },
  {
   "cell_type": "code",
   "execution_count": 10,
   "metadata": {},
   "outputs": [],
   "source": [
    "rd.close_session()"
   ]
  },
  {
   "cell_type": "code",
   "execution_count": null,
   "metadata": {},
   "outputs": [],
   "source": []
  }
 ],
 "metadata": {
  "kernelspec": {
   "display_name": "Python 3 (ipykernel)",
   "language": "python",
   "name": "python3"
  },
  "language_info": {
   "codemirror_mode": {
    "name": "ipython",
    "version": 3
   },
   "file_extension": ".py",
   "mimetype": "text/x-python",
   "name": "python",
   "nbconvert_exporter": "python",
   "pygments_lexer": "ipython3",
   "version": "3.9.7"
  }
 },
 "nbformat": 4,
 "nbformat_minor": 4
}
